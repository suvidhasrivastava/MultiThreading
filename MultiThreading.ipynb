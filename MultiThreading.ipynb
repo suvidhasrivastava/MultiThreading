{
 "cells": [
  {
   "cell_type": "code",
   "execution_count": 1,
   "metadata": {},
   "outputs": [
    {
     "ename": "ModuleNotFoundError",
     "evalue": "No module named 'numpy'",
     "output_type": "error",
     "traceback": [
      "\u001b[1;31m---------------------------------------------------------------------------\u001b[0m",
      "\u001b[1;31mModuleNotFoundError\u001b[0m                       Traceback (most recent call last)",
      "Cell \u001b[1;32mIn[1], line 1\u001b[0m\n\u001b[1;32m----> 1\u001b[0m \u001b[38;5;28;01mimport\u001b[39;00m \u001b[38;5;21;01mnumpy\u001b[39;00m \u001b[38;5;28;01mas\u001b[39;00m \u001b[38;5;21;01mnp\u001b[39;00m\n\u001b[0;32m      2\u001b[0m \u001b[38;5;28;01mimport\u001b[39;00m \u001b[38;5;21;01mtime\u001b[39;00m\n\u001b[0;32m      3\u001b[0m \u001b[38;5;28;01mimport\u001b[39;00m \u001b[38;5;21;01mthreading\u001b[39;00m\n",
      "\u001b[1;31mModuleNotFoundError\u001b[0m: No module named 'numpy'"
     ]
    }
   ],
   "source": []
  },
  {
   "cell_type": "code",
   "execution_count": 2,
   "metadata": {},
   "outputs": [
    {
     "name": "stdout",
     "output_type": "stream",
     "text": [
      "Collecting numpyNote: you may need to restart the kernel to use updated packages.\n",
      "\n",
      "  Obtaining dependency information for numpy from https://files.pythonhosted.org/packages/16/2e/86f24451c2d530c88daf997cb8d6ac622c1d40d19f5a031ed68a4b73a374/numpy-1.26.4-cp312-cp312-win_amd64.whl.metadata\n",
      "  Downloading numpy-1.26.4-cp312-cp312-win_amd64.whl.metadata (61 kB)\n",
      "     ---------------------------------------- 0.0/61.0 kB ? eta -:--:--\n",
      "     --------------------------------- ------ 51.2/61.0 kB 1.3 MB/s eta 0:00:01\n",
      "     ---------------------------------------- 61.0/61.0 kB 1.1 MB/s eta 0:00:00\n",
      "Downloading numpy-1.26.4-cp312-cp312-win_amd64.whl (15.5 MB)\n",
      "   ---------------------------------------- 0.0/15.5 MB ? eta -:--:--\n",
      "    --------------------------------------- 0.2/15.5 MB 7.6 MB/s eta 0:00:03\n",
      "   - -------------------------------------- 0.6/15.5 MB 6.0 MB/s eta 0:00:03\n",
      "   -- ------------------------------------- 0.9/15.5 MB 7.2 MB/s eta 0:00:03\n",
      "   --- ------------------------------------ 1.3/15.5 MB 6.6 MB/s eta 0:00:03\n",
      "   --- ------------------------------------ 1.5/15.5 MB 6.9 MB/s eta 0:00:03\n",
      "   ---- ----------------------------------- 1.9/15.5 MB 6.6 MB/s eta 0:00:03\n",
      "   ----- ---------------------------------- 2.2/15.5 MB 6.6 MB/s eta 0:00:03\n",
      "   ------ --------------------------------- 2.5/15.5 MB 6.8 MB/s eta 0:00:02\n",
      "   ------- -------------------------------- 2.8/15.5 MB 6.9 MB/s eta 0:00:02\n",
      "   ------- -------------------------------- 3.1/15.5 MB 7.0 MB/s eta 0:00:02\n",
      "   -------- ------------------------------- 3.4/15.5 MB 7.0 MB/s eta 0:00:02\n",
      "   --------- ------------------------------ 3.8/15.5 MB 6.9 MB/s eta 0:00:02\n",
      "   ---------- ----------------------------- 4.1/15.5 MB 6.9 MB/s eta 0:00:02\n",
      "   ----------- ---------------------------- 4.4/15.5 MB 6.9 MB/s eta 0:00:02\n",
      "   ------------ --------------------------- 4.7/15.5 MB 7.0 MB/s eta 0:00:02\n",
      "   ------------ --------------------------- 5.0/15.5 MB 6.8 MB/s eta 0:00:02\n",
      "   ------------- -------------------------- 5.3/15.5 MB 6.9 MB/s eta 0:00:02\n",
      "   -------------- ------------------------- 5.6/15.5 MB 6.9 MB/s eta 0:00:02\n",
      "   --------------- ------------------------ 5.9/15.5 MB 6.9 MB/s eta 0:00:02\n",
      "   --------------- ------------------------ 6.2/15.5 MB 6.9 MB/s eta 0:00:02\n",
      "   ---------------- ----------------------- 6.5/15.5 MB 6.9 MB/s eta 0:00:02\n",
      "   ----------------- ---------------------- 6.7/15.5 MB 7.0 MB/s eta 0:00:02\n",
      "   ------------------ --------------------- 7.1/15.5 MB 6.9 MB/s eta 0:00:02\n",
      "   ------------------- -------------------- 7.4/15.5 MB 6.9 MB/s eta 0:00:02\n",
      "   ------------------- -------------------- 7.7/15.5 MB 6.9 MB/s eta 0:00:02\n",
      "   -------------------- ------------------- 8.0/15.5 MB 6.8 MB/s eta 0:00:02\n",
      "   --------------------- ------------------ 8.3/15.5 MB 6.9 MB/s eta 0:00:02\n",
      "   ---------------------- ----------------- 8.7/15.5 MB 6.8 MB/s eta 0:00:02\n",
      "   ----------------------- ---------------- 9.0/15.5 MB 6.9 MB/s eta 0:00:01\n",
      "   ----------------------- ---------------- 9.3/15.5 MB 6.9 MB/s eta 0:00:01\n",
      "   ------------------------ --------------- 9.6/15.5 MB 6.9 MB/s eta 0:00:01\n",
      "   ------------------------- -------------- 10.0/15.5 MB 6.9 MB/s eta 0:00:01\n",
      "   -------------------------- ------------- 10.3/15.5 MB 6.9 MB/s eta 0:00:01\n",
      "   --------------------------- ------------ 10.6/15.5 MB 7.0 MB/s eta 0:00:01\n",
      "   ---------------------------- ----------- 10.9/15.5 MB 7.0 MB/s eta 0:00:01\n",
      "   ---------------------------- ----------- 11.2/15.5 MB 7.0 MB/s eta 0:00:01\n",
      "   ----------------------------- ---------- 11.4/15.5 MB 6.9 MB/s eta 0:00:01\n",
      "   ------------------------------ --------- 11.6/15.5 MB 6.8 MB/s eta 0:00:01\n",
      "   ------------------------------ --------- 12.0/15.5 MB 6.8 MB/s eta 0:00:01\n",
      "   ------------------------------- -------- 12.3/15.5 MB 6.8 MB/s eta 0:00:01\n",
      "   -------------------------------- ------- 12.6/15.5 MB 6.9 MB/s eta 0:00:01\n",
      "   --------------------------------- ------ 12.9/15.5 MB 6.8 MB/s eta 0:00:01\n",
      "   --------------------------------- ------ 13.2/15.5 MB 6.9 MB/s eta 0:00:01\n",
      "   ---------------------------------- ----- 13.5/15.5 MB 6.8 MB/s eta 0:00:01\n",
      "   ----------------------------------- ---- 13.9/15.5 MB 6.8 MB/s eta 0:00:01\n",
      "   ------------------------------------ --- 14.2/15.5 MB 6.8 MB/s eta 0:00:01\n",
      "   ------------------------------------- -- 14.5/15.5 MB 6.8 MB/s eta 0:00:01\n",
      "   -------------------------------------- - 14.8/15.5 MB 6.9 MB/s eta 0:00:01\n",
      "   ---------------------------------------  15.2/15.5 MB 6.9 MB/s eta 0:00:01\n",
      "   ---------------------------------------  15.5/15.5 MB 6.9 MB/s eta 0:00:01\n",
      "   ---------------------------------------  15.5/15.5 MB 6.9 MB/s eta 0:00:01\n",
      "   ---------------------------------------- 15.5/15.5 MB 6.7 MB/s eta 0:00:00\n",
      "Installing collected packages: numpy\n",
      "Successfully installed numpy-1.26.4\n"
     ]
    },
    {
     "name": "stderr",
     "output_type": "stream",
     "text": [
      "  WARNING: The script f2py.exe is installed in 'c:\\Users\\Adhyan\\AppData\\Local\\Programs\\Python\\Python312\\Scripts' which is not on PATH.\n",
      "  Consider adding this directory to PATH or, if you prefer to suppress this warning, use --no-warn-script-location.\n",
      "\n",
      "[notice] A new release of pip is available: 23.2.1 -> 24.0\n",
      "[notice] To update, run: python.exe -m pip install --upgrade pip\n"
     ]
    }
   ],
   "source": [
    "%pip install numpy"
   ]
  },
  {
   "cell_type": "code",
   "execution_count": 3,
   "metadata": {},
   "outputs": [
    {
     "name": "stdout",
     "output_type": "stream",
     "text": [
      "Collecting matplotlib\n",
      "  Obtaining dependency information for matplotlib from https://files.pythonhosted.org/packages/7d/ca/e7bd1876a341ed8c456095962a582696cac1691cb6e55bd5ead15a755c5d/matplotlib-3.8.4-cp312-cp312-win_amd64.whl.metadata\n",
      "  Downloading matplotlib-3.8.4-cp312-cp312-win_amd64.whl.metadata (5.9 kB)\n",
      "Collecting contourpy>=1.0.1 (from matplotlib)\n",
      "  Obtaining dependency information for contourpy>=1.0.1 from https://files.pythonhosted.org/packages/78/38/a046bb0ebce6f530175d434e7364149e338ffe1069ee286ed8ba7f6481ee/contourpy-1.2.1-cp312-cp312-win_amd64.whl.metadata\n",
      "  Downloading contourpy-1.2.1-cp312-cp312-win_amd64.whl.metadata (5.8 kB)\n",
      "Collecting cycler>=0.10 (from matplotlib)\n",
      "  Obtaining dependency information for cycler>=0.10 from https://files.pythonhosted.org/packages/e7/05/c19819d5e3d95294a6f5947fb9b9629efb316b96de511b418c53d245aae6/cycler-0.12.1-py3-none-any.whl.metadata\n",
      "  Downloading cycler-0.12.1-py3-none-any.whl.metadata (3.8 kB)\n",
      "Collecting fonttools>=4.22.0 (from matplotlib)\n",
      "  Obtaining dependency information for fonttools>=4.22.0 from https://files.pythonhosted.org/packages/56/85/0a77382e3dd8528d7f13ee97415c82b36c4879023f226e2b98d012fce077/fonttools-4.51.0-cp312-cp312-win_amd64.whl.metadata\n",
      "  Downloading fonttools-4.51.0-cp312-cp312-win_amd64.whl.metadata (162 kB)\n",
      "     ---------------------------------------- 0.0/162.8 kB ? eta -:--:--\n",
      "     ---------------------- ---------------- 92.2/162.8 kB 2.6 MB/s eta 0:00:01\n",
      "     -------------------------------------- 162.8/162.8 kB 3.2 MB/s eta 0:00:00\n",
      "Collecting kiwisolver>=1.3.1 (from matplotlib)\n",
      "  Obtaining dependency information for kiwisolver>=1.3.1 from https://files.pythonhosted.org/packages/63/50/2746566bdf4a6a842d117367d05c90cfb87ac04e9e2845aa1fa21f071362/kiwisolver-1.4.5-cp312-cp312-win_amd64.whl.metadata\n",
      "  Downloading kiwisolver-1.4.5-cp312-cp312-win_amd64.whl.metadata (6.5 kB)\n",
      "Requirement already satisfied: numpy>=1.21 in c:\\users\\adhyan\\appdata\\local\\programs\\python\\python312\\lib\\site-packages (from matplotlib) (1.26.4)\n",
      "Requirement already satisfied: packaging>=20.0 in c:\\users\\adhyan\\appdata\\roaming\\python\\python312\\site-packages (from matplotlib) (24.0)\n",
      "Collecting pillow>=8 (from matplotlib)\n",
      "  Obtaining dependency information for pillow>=8 from https://files.pythonhosted.org/packages/d3/23/3927d888481ff7c44fdbca3bc2a2e97588c933db46723bf115201377c436/pillow-10.3.0-cp312-cp312-win_amd64.whl.metadata\n",
      "  Downloading pillow-10.3.0-cp312-cp312-win_amd64.whl.metadata (9.4 kB)\n",
      "Collecting pyparsing>=2.3.1 (from matplotlib)\n",
      "  Obtaining dependency information for pyparsing>=2.3.1 from https://files.pythonhosted.org/packages/9d/ea/6d76df31432a0e6fdf81681a895f009a4bb47b3c39036db3e1b528191d52/pyparsing-3.1.2-py3-none-any.whl.metadata\n",
      "  Downloading pyparsing-3.1.2-py3-none-any.whl.metadata (5.1 kB)\n",
      "Requirement already satisfied: python-dateutil>=2.7 in c:\\users\\adhyan\\appdata\\roaming\\python\\python312\\site-packages (from matplotlib) (2.9.0.post0)\n",
      "Requirement already satisfied: six>=1.5 in c:\\users\\adhyan\\appdata\\roaming\\python\\python312\\site-packages (from python-dateutil>=2.7->matplotlib) (1.16.0)\n",
      "Downloading matplotlib-3.8.4-cp312-cp312-win_amd64.whl (7.7 MB)\n",
      "   ---------------------------------------- 0.0/7.7 MB ? eta -:--:--\n",
      "   - -------------------------------------- 0.2/7.7 MB 7.6 MB/s eta 0:00:01\n",
      "   -- ------------------------------------- 0.6/7.7 MB 7.2 MB/s eta 0:00:01\n",
      "   ---- ----------------------------------- 0.9/7.7 MB 7.2 MB/s eta 0:00:01\n",
      "   ------ --------------------------------- 1.2/7.7 MB 7.1 MB/s eta 0:00:01\n",
      "   ------- -------------------------------- 1.5/7.7 MB 7.2 MB/s eta 0:00:01\n",
      "   --------- ------------------------------ 1.8/7.7 MB 7.2 MB/s eta 0:00:01\n",
      "   ----------- ---------------------------- 2.1/7.7 MB 6.7 MB/s eta 0:00:01\n",
      "   ------------ --------------------------- 2.4/7.7 MB 6.9 MB/s eta 0:00:01\n",
      "   -------------- ------------------------- 2.7/7.7 MB 6.7 MB/s eta 0:00:01\n",
      "   --------------- ------------------------ 3.1/7.7 MB 6.9 MB/s eta 0:00:01\n",
      "   ----------------- ---------------------- 3.4/7.7 MB 6.8 MB/s eta 0:00:01\n",
      "   ------------------ --------------------- 3.6/7.7 MB 6.8 MB/s eta 0:00:01\n",
      "   -------------------- ------------------- 3.9/7.7 MB 6.7 MB/s eta 0:00:01\n",
      "   ---------------------- ----------------- 4.3/7.7 MB 6.8 MB/s eta 0:00:01\n",
      "   ------------------------ --------------- 4.6/7.7 MB 6.8 MB/s eta 0:00:01\n",
      "   ------------------------- -------------- 4.9/7.7 MB 6.9 MB/s eta 0:00:01\n",
      "   --------------------------- ------------ 5.2/7.7 MB 6.8 MB/s eta 0:00:01\n",
      "   ---------------------------- ----------- 5.5/7.7 MB 6.9 MB/s eta 0:00:01\n",
      "   ------------------------------ --------- 5.8/7.7 MB 6.9 MB/s eta 0:00:01\n",
      "   -------------------------------- ------- 6.1/7.7 MB 6.9 MB/s eta 0:00:01\n",
      "   --------------------------------- ------ 6.5/7.7 MB 6.9 MB/s eta 0:00:01\n",
      "   ----------------------------------- ---- 6.8/7.7 MB 6.9 MB/s eta 0:00:01\n",
      "   ------------------------------------- -- 7.1/7.7 MB 6.9 MB/s eta 0:00:01\n",
      "   -------------------------------------- - 7.4/7.7 MB 6.9 MB/s eta 0:00:01\n",
      "   ---------------------------------------  7.7/7.7 MB 6.9 MB/s eta 0:00:01\n",
      "   ---------------------------------------  7.7/7.7 MB 6.9 MB/s eta 0:00:01\n",
      "   ---------------------------------------- 7.7/7.7 MB 6.4 MB/s eta 0:00:00\n",
      "Downloading contourpy-1.2.1-cp312-cp312-win_amd64.whl (189 kB)\n",
      "   ---------------------------------------- 0.0/189.9 kB ? eta -:--:--\n",
      "   ---------------------------------------- 189.9/189.9 kB 5.8 MB/s eta 0:00:00\n",
      "Using cached cycler-0.12.1-py3-none-any.whl (8.3 kB)\n",
      "Downloading fonttools-4.51.0-cp312-cp312-win_amd64.whl (2.2 MB)\n",
      "   ---------------------------------------- 0.0/2.2 MB ? eta -:--:--\n",
      "   ---- ----------------------------------- 0.3/2.2 MB 7.9 MB/s eta 0:00:01\n",
      "   ----------- ---------------------------- 0.6/2.2 MB 6.4 MB/s eta 0:00:01\n",
      "   ------------------ --------------------- 1.0/2.2 MB 6.9 MB/s eta 0:00:01\n",
      "   ------------------------ --------------- 1.3/2.2 MB 7.0 MB/s eta 0:00:01\n",
      "   ---------------------------- ----------- 1.6/2.2 MB 6.7 MB/s eta 0:00:01\n",
      "   ----------------------------------- ---- 1.9/2.2 MB 7.2 MB/s eta 0:00:01\n",
      "   ---------------------------------------  2.2/2.2 MB 6.9 MB/s eta 0:00:01\n",
      "   ---------------------------------------- 2.2/2.2 MB 6.6 MB/s eta 0:00:00\n",
      "Downloading kiwisolver-1.4.5-cp312-cp312-win_amd64.whl (56 kB)\n",
      "   ---------------------------------------- 0.0/56.0 kB ? eta -:--:--\n",
      "   ---------------------------------------- 56.0/56.0 kB 3.1 MB/s eta 0:00:00\n",
      "Downloading pillow-10.3.0-cp312-cp312-win_amd64.whl (2.5 MB)\n",
      "   ---------------------------------------- 0.0/2.5 MB ? eta -:--:--\n",
      "   ---- ----------------------------------- 0.3/2.5 MB 8.6 MB/s eta 0:00:01\n",
      "   --------- ------------------------------ 0.6/2.5 MB 7.6 MB/s eta 0:00:01\n",
      "   ----------- ---------------------------- 0.7/2.5 MB 5.9 MB/s eta 0:00:01\n",
      "   ---------------- ----------------------- 1.1/2.5 MB 6.2 MB/s eta 0:00:01\n",
      "   ---------------------- ----------------- 1.4/2.5 MB 6.4 MB/s eta 0:00:01\n",
      "   -------------------------- ------------- 1.7/2.5 MB 6.4 MB/s eta 0:00:01\n",
      "   ------------------------------- -------- 2.0/2.5 MB 6.7 MB/s eta 0:00:01\n",
      "   ------------------------------------ --- 2.3/2.5 MB 6.8 MB/s eta 0:00:01\n",
      "   ---------------------------------------- 2.5/2.5 MB 6.4 MB/s eta 0:00:00\n",
      "Downloading pyparsing-3.1.2-py3-none-any.whl (103 kB)\n",
      "   ---------------------------------------- 0.0/103.2 kB ? eta -:--:--\n",
      "   ---------------------------------------- 103.2/103.2 kB 5.8 MB/s eta 0:00:00\n",
      "Installing collected packages: pyparsing, pillow, kiwisolver, fonttools, cycler, contourpy, matplotlib\n",
      "Successfully installed contourpy-1.2.1 cycler-0.12.1 fonttools-4.51.0 kiwisolver-1.4.5 matplotlib-3.8.4 pillow-10.3.0 pyparsing-3.1.2\n",
      "Note: you may need to restart the kernel to use updated packages.\n"
     ]
    },
    {
     "name": "stderr",
     "output_type": "stream",
     "text": [
      "  WARNING: The scripts fonttools.exe, pyftmerge.exe, pyftsubset.exe and ttx.exe are installed in 'c:\\Users\\Adhyan\\AppData\\Local\\Programs\\Python\\Python312\\Scripts' which is not on PATH.\n",
      "  Consider adding this directory to PATH or, if you prefer to suppress this warning, use --no-warn-script-location.\n",
      "\n",
      "[notice] A new release of pip is available: 23.2.1 -> 24.0\n",
      "[notice] To update, run: python.exe -m pip install --upgrade pip\n"
     ]
    }
   ],
   "source": [
    "%pip install matplotlib"
   ]
  },
  {
   "cell_type": "code",
   "execution_count": 4,
   "metadata": {},
   "outputs": [
    {
     "name": "stdout",
     "output_type": "stream",
     "text": [
      "Requirement already satisfied: psutil in c:\\users\\adhyan\\appdata\\roaming\\python\\python312\\site-packages (5.9.8)Note: you may need to restart the kernel to use updated packages.\n",
      "\n"
     ]
    },
    {
     "name": "stderr",
     "output_type": "stream",
     "text": [
      "\n",
      "[notice] A new release of pip is available: 23.2.1 -> 24.0\n",
      "[notice] To update, run: python.exe -m pip install --upgrade pip\n"
     ]
    }
   ],
   "source": [
    "%pip install psutil"
   ]
  },
  {
   "cell_type": "code",
   "execution_count": 5,
   "metadata": {},
   "outputs": [],
   "source": [
    "import numpy as np\n",
    "import time\n",
    "import threading\n",
    "import matplotlib.pyplot as plt\n",
    "import psutil"
   ]
  },
  {
   "cell_type": "code",
   "execution_count": 6,
   "metadata": {},
   "outputs": [],
   "source": [
    "def multiply_matrices(matrix, constant_matrix, result, start, end):\n",
    "    for i in range(start, end):\n",
    "        result[i] = np.dot(matrix[i], constant_matrix)"
   ]
  },
  {
   "cell_type": "code",
   "execution_count": 11,
   "metadata": {},
   "outputs": [
    {
     "name": "stdout",
     "output_type": "stream",
     "text": [
      "Time taken with 1 threads: 1.2639505863189697 seconds\n",
      "Time taken with 2 threads: 0.9028809070587158 seconds\n",
      "Time taken with 3 threads: 0.950192928314209 seconds\n",
      "Time taken with 4 threads: 0.9496574401855469 seconds\n",
      "Time taken with 5 threads: 0.966731071472168 seconds\n",
      "Time taken with 6 threads: 0.9655108451843262 seconds\n",
      "Time taken with 7 threads: 0.9695291519165039 seconds\n",
      "Time taken with 8 threads: 1.015026569366455 seconds\n"
     ]
    }
   ],
   "source": [
    "def multiply_with_threads(matrix, constant_matrix, num_threads):\n",
    "    result = [None] * len(matrix)\n",
    "    threads = []\n",
    "    chunk_size = len(matrix) // num_threads\n",
    "\n",
    "    for i in range(num_threads):\n",
    "        start = i * chunk_size\n",
    "        end = start + chunk_size if i < num_threads - 1 else len(matrix)\n",
    "        thread = threading.Thread(target=multiply_matrices, args=(matrix, constant_matrix, result, start, end))\n",
    "        threads.append(thread)\n",
    "        thread.start()\n",
    "\n",
    "    for thread in threads:\n",
    "        thread.join()\n",
    "\n",
    "    return result\n",
    "\n",
    "if __name__ == \"__main__\":\n",
    "    num_matrices = 100\n",
    "    matrix_size = 1000\n",
    "    constant_matrix = np.random.rand(matrix_size, matrix_size)\n",
    "    matrices = [np.random.rand(matrix_size, matrix_size) for _ in range(num_matrices)]\n",
    "\n",
    "    num_threads_list = [1, 2,3, 4,5,6,7, 8]  # Adjust this list according to your CPU capabilities\n",
    "    times = []\n",
    "\n",
    "    for num_threads in num_threads_list:\n",
    "        start_time = time.time()\n",
    "        result = multiply_with_threads(matrices, constant_matrix, num_threads)\n",
    "        end_time = time.time()\n",
    "        times.append(end_time - start_time)\n",
    "\n",
    "        print(f\"Time taken with {num_threads} threads: {end_time - start_time} seconds\")"
   ]
  },
  {
   "cell_type": "code",
   "execution_count": 12,
   "metadata": {},
   "outputs": [
    {
     "data": {
      "image/png": "[encoded data removed]",
      "text/plain": [
       "<Figure size 640x480 with 1 Axes>"
      ]
     },
     "metadata": {},
     "output_type": "display_data"
    }
   ],
   "source": [
    "#The graph showing the relation between number of threads and time taken\n",
    "plt.plot(num_threads_list, times, marker='o')\n",
    "plt.xlabel('Number of Threads')\n",
    "plt.ylabel('Time Taken (seconds)')\n",
    "plt.title('Time Taken vs Number of Threads')\n",
    "plt.grid(True)\n",
    "plt.show()"
   ]
  },
  {
   "cell_type": "code",
   "execution_count": 13,
   "metadata": {},
   "outputs": [
    {
     "name": "stdout",
     "output_type": "stream",
     "text": [
      "CPU Usage: [2.7, 2.7, 2.1, 2.3, 2.1, 1.7, 1.9, 1.9]\n"
     ]
    }
   ],
   "source": [
    "#For monitoring cpu usage\n",
    "cpu_usage = [psutil.cpu_percent(interval=1) for _ in range(len(num_threads_list))]\n",
    "print(\"CPU Usage:\", cpu_usage)"
   ]
  }
 ],
 "metadata": {
  "kernelspec": {
   "display_name": "Python 3",
   "language": "python",
   "name": "python3"
  },
  "language_info": {
   "codemirror_mode": {
    "name": "ipython",
    "version": 3
   },
   "file_extension": ".py",
   "mimetype": "text/x-python",
   "name": "python",
   "nbconvert_exporter": "python",
   "pygments_lexer": "ipython3",
   "version": "3.12.0"
  }
 },
 "nbformat": 4,
 "nbformat_minor": 2
}
